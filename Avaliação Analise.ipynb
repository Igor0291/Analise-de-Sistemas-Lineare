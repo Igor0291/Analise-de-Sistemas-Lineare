{
 "cells": [
  {
   "cell_type": "markdown",
   "metadata": {},
   "source": [
    "## Universidade Federal do Pará\n",
    "## Faculdade de Engenharia Elétrica\n",
    "### Aluno: Igor Emanoel Vieira Alves\n",
    "### Matrícula: 202233940009"
   ]
  },
  {
   "cell_type": "markdown",
   "metadata": {},
   "source": [
    "## 1)"
   ]
  },
  {
   "cell_type": "markdown",
   "metadata": {},
   "source": [
    "### Resposta:"
   ]
  },
  {
   "cell_type": "markdown",
   "metadata": {},
   "source": [
    "Aplicando Laplace, temos:\n",
    "$$\n",
    "\\begin{align}\n",
    "\\mathcal{L}\\{\\ddot y\\}+4\\mathcal{L}\\{\\dot y\\}+85\\mathcal{L}\\{y\\}=85x(t)\n",
    "\\end{align}\n",
    "$$\n",
    "Considerando:\n",
    "$$\n",
    "\\begin{align}\n",
    "y(t) \\leftrightarrow Y(s)\n",
    "\\end{align}\n",
    "$$\n",
    "Temos:\n",
    "$$\n",
    "\\begin{align}\n",
    "\\mathcal{L}\\{\\dot y\\} \\leftrightarrow sY(s)-y(0)=sY(s)-0\\\\\n",
    "\\mathcal{L}\\{\\ddot y\\} \\leftrightarrow s^2Y(s)-sy(0)-\\dot y(0)= s^2Y(s)-0-3\\\\\n",
    "\\end{align}\n",
    "$$"
   ]
  },
  {
   "cell_type": "markdown",
   "metadata": {},
   "source": [
    "Para a entrada $x(t)=u(t)$, temos:\n",
    "$$\n",
    "\\begin{align}\n",
    "X(s)= x(t) = \\frac {1}{s}\n",
    "\\end{align}"
   ]
  },
  {
   "cell_type": "markdown",
   "metadata": {},
   "source": [
    "Fazendo as transformadas, obtemos:\n",
    "$$\n",
    "\\begin {align}\n",
    "[s^2Y(s)-3]+4[sY(s)]+85Y(s)=85X(s)\n",
    "\\end{align}\n",
    "$$\n",
    "Agrupando os termos de $Y(s)$, temos:\n",
    "$$\n",
    "\\begin{align}\n",
    "(s^2+4s+85)Y(s)=85X(s)+3\n",
    "\\end{align}\n",
    "$$\n",
    "Isolando o $Y(s)$:\n",
    "$$\n",
    "\\begin {align}\n",
    "Y(s)=\\frac{85X(s)+3s}{s^2+4s+85}\n",
    "\\end{align}\n",
    "$$\n",
    "Decompondo em frações parciais:\n",
    "$$\n",
    "\\begin{align}\n",
    "Y(s)=\\frac{A}{(s-2+9j)}+\\frac{B}{(s-2-9j)}\\\\\n",
    "A= -\\frac{1}{2}-\\frac{3}{4}j\\\\\n",
    "B= -\\frac{5}{12}-\\frac{9}{24}j\n",
    "\\end{align}\n",
    "$$\n",
    "Aplicando Laplace inversa:\n",
    "$$\n",
    "\\begin{align}\n",
    "y(t)=\\mathcal{L}^{-1}\\{Y(s)\\}=\\mathcal{L}^{-1}\\{\\frac{A}{(s-2+9j)}+\\frac{B}{(s-2-9j)}\\}\n",
    "\\end{align}\n",
    "$$\n",
    "Sabendo que $\\mathcal{L}^{-1}\\{\\frac{1}{s-a}\\}=e^{at}$, Substituímos para encontrar a solução forçada:\n",
    "$$\n",
    "\\begin{align}\n",
    " y_f(t) = -\\frac{1}{2}e^{(2-9i)t} - \\frac{5}{12}e^{(2+9i)t}\n",
    "\\end{align}\n",
    "$$\n",
    "Para encontrar a solução natual:\n",
    "$$\n",
    "\\begin{align}\n",
    "y_n(t) = Re[e^{2t}(-\\frac{1}{2}\\cos(9t) - \\frac{5}{12}\\sin(9t)\n",
    "\\end{align}\n",
    "$$\n",
    "$y(t)$ é a soma da solução das duas\n",
    "$$\n",
    "\\begin{align}\n",
    "y(t) = y_f(t) + y_n(t)\\\\\n",
    "y(t) = [-\\frac{1}{2}e^{(2-9i)t} - \\frac{5}{12}e^{(2+9i)t}]+Re[e^{2t}(-\\frac{1}{2}\\cos(9t) - \\frac{5}{12}\\sin(9t)\n",
    "\\end{align}\n",
    "$$\n",
    "Resolvendo tudo, obtemos a seguinte expressão:\n",
    "$$\n",
    "\\begin{align}\n",
    "y(t)= e^{-2t}cos(9t)-e^{2t}sin(9t)\n",
    "\\end{align}\n",
    "$$"
   ]
  },
  {
   "cell_type": "markdown",
   "metadata": {},
   "source": [
    "## 2)"
   ]
  },
  {
   "cell_type": "markdown",
   "metadata": {},
   "source": [
    "### Respostas"
   ]
  },
  {
   "cell_type": "markdown",
   "metadata": {},
   "source": [
    "### A)"
   ]
  },
  {
   "cell_type": "markdown",
   "metadata": {},
   "source": [
    "A função de transferência é dada por:\n",
    "$$\n",
    "\\begin{align}\n",
    "H(s)=\\frac{Y(s)}{F(s)}\n",
    "\\end{align}\n",
    "$$\n",
    "Para encontrar-lá, primeiro resolve-se a transformada de Laplace da equação diferencial dada na questão. Resolvendo, temos:\n",
    "$$\n",
    "\\begin{align}\n",
    "m\\cdot s^2Y(s)+k\\cdot s\\cdot Y(s)=F(s)\n",
    "\\end{align}\n",
    "$$\n",
    "Para achar a função de transferência:\n",
    "Isolando o $Y(s)$\n",
    "$$\n",
    "\\begin{align}\n",
    "(ms^2+ks)Y(s)=F(s)\n",
    "\\end{align}\n",
    "$$\n",
    "Então temos que:\n",
    "$$\n",
    "\\begin{align}\n",
    "H(s)=\\frac{Y(s)}{F(s)}=\\frac{1}{ms^2+ks}\n",
    "\\end{align}\n",
    "$$\n",
    "Substituindo $m=12, k=15$:\n",
    "$$\n",
    "\\begin{align}\n",
    "H(s)=\\frac{1}{12s^2+15s}\n",
    "\\end{align}\n",
    "$$"
   ]
  },
  {
   "cell_type": "markdown",
   "metadata": {},
   "source": [
    "### B)"
   ]
  },
  {
   "cell_type": "markdown",
   "metadata": {},
   "source": [
    "Decompondo em frações parciais, expressamos a função da seguinte forma:\n",
    "$$\n",
    "\\begin{align}\n",
    "H(s)=\\frac{A}{3s}+\\frac{B}{4s+5}\n",
    "\\end{align}\n",
    "$$\n",
    "Resolvendo por frações parciais, econtramos os pólos:\n",
    "$$\n",
    "\\begin{align}\n",
    "s=0\\\\\n",
    "s=-\\frac{5}{4}\n",
    "\\end{align}\n",
    "$$\n",
    "Zero da função em $s=0$ na fração $\\frac{1}{5s}$"
   ]
  },
  {
   "cell_type": "markdown",
   "metadata": {},
   "source": [
    "### C)"
   ]
  },
  {
   "cell_type": "markdown",
   "metadata": {},
   "source": [
    "Os modos característicos desses polos são dados pelos termos exponeciais, assim temos que:\n",
    "$$\n",
    "\\begin{align}\n",
    "s=0=e^{0t}\\\\\n",
    "s=-\\frac{5}{4}=e^{-\\frac{5}{4}}\n",
    "\\end{align}\n",
    "$$"
   ]
  },
  {
   "cell_type": "markdown",
   "metadata": {},
   "source": [
    "### D)"
   ]
  },
  {
   "cell_type": "markdown",
   "metadata": {},
   "source": [
    "A saída em regime permanente é dada pela equação:\n",
    "$$\n",
    "\\begin{align}\n",
    "Y_{ss}(t)=|H(j \\omega)|\\cdot cos(\\omega t+\\angle H(j\\omega))u(t)\n",
    "\\end{align}\n",
    "$$\n",
    "Onde: $s=j\\omega$\n",
    "Utilizando a entrada $f(t)=30cos(3t)$, temos:\n",
    "$$\n",
    "\\begin{align}\n",
    "Y_{ss}(t)=|H(j\\omega)|\\cdot 30cos(3t+\\angle H(j\\omega))u(t)\n",
    "\\end{align}\n",
    "$$\n",
    "Achando o módulo e a fase da expressão, temos que:\n",
    "$$\n",
    "\\begin{align}\n",
    "|H(j\\omega)|= \\frac{1}{\\sqrt{(-12\\omega^2)^2+(15\\omega)^2}}\\\\\n",
    "\\angle H(j\\omega)= tan^{-1}(\\frac{15\\omega}{-12\\omega^2})\n",
    "\\end{align}\n",
    "$$\n",
    "Substituindo as expressões encontradas e também já substituindo $\\omega=3$, obtemos:\\\n",
    "(valor da fase em radianos)\n",
    "$$\n",
    "\\begin{align}\n",
    "Y_{ss}(t)=\\frac{30}{\\sqrt{(-108)^2+45^2}}\\cdot cos(3t+\\angle(\\frac{5}{-12}))u(t)\\\\\n",
    "Y_{ss}(t)=\\frac{30}{117}\\cdot cos(3t+2.7468)u(t)\n",
    "\\end{align}\n",
    "$$"
   ]
  },
  {
   "cell_type": "markdown",
   "metadata": {},
   "source": [
    "### E)"
   ]
  },
  {
   "cell_type": "markdown",
   "metadata": {},
   "source": [
    "Sem considerar o regime permanente, podemos encontrar a saída total, fazendo a transformada inversa de Laplace em $H(s)$, depois fazendo a convolução com a entrada $f(t)$, então:\n",
    "$$\n",
    "\\begin{align}\n",
    "h(t)= \\mathcal{L}^{-1}\\{H(s)\\}\\\\\n",
    "h(t)= \\frac{1}{5}-\\frac{4}{5}e^{-\\frac{5}{4}t}\\\\\n",
    "Y(t)= h(t)*f(t)\n",
    "\\end{align}\n",
    "$$\n",
    "Substituindo os valores, temos que:\n",
    "$$\n",
    "\\begin{align}\n",
    "Y(t)= \\frac{1}{5}-\\frac{4}{5}e^{-\\frac{5}{4}t} * cos(\\sqrt{\\frac{15}{12}t})\\\\\n",
    "(h*f)(t) = \\int_0^t (\\frac{1}{5}-\\frac{4}{5}e^{-\\frac{5}{4}\\tau}\\cdot cos(\\sqrt{\\frac{15}{12}}(t-\\tau))d\\tau\n",
    "\\end{align}\n",
    "$$\n",
    "O resultado da convolução é apresentado no grafico a seguir:"
   ]
  },
  {
   "attachments": {
    "image.png": {
     "image/png": "[encoded data removed]"
    }
   },
   "cell_type": "markdown",
   "metadata": {},
   "source": [
    "![image.png](attachment:image.png)"
   ]
  },
  {
   "cell_type": "markdown",
   "metadata": {},
   "source": [
    "### F)"
   ]
  },
  {
   "cell_type": "markdown",
   "metadata": {},
   "source": [
    "Com Base nos polos da função de trânsferencia $H(s)$, podemos afirmar que o sistema é estável pois tem partes reais negativas. As partes reais negativas implicam que ao longo do tempo a resposta ao impulso, a resposta a entradas arbitrárias e por extensão, irão tender a 0, resultando em um sistema estável"
   ]
  },
  {
   "cell_type": "markdown",
   "metadata": {},
   "source": [
    "## 3) "
   ]
  },
  {
   "cell_type": "markdown",
   "metadata": {},
   "source": [
    "Primeiro, obtemos as expressões do Controlador $C(s)$ e da planta MAGLEV $G(s)$:\n",
    "$$\n",
    "\\begin{align}\n",
    "C(s)=K\\cdot\\frac{s+4}{s+8}\\\\\n",
    "K = \\frac{40}{7}\\\\\n",
    "C(s)= \\frac{40}{7}\\cdot \\frac{s+4}{s+8}\\\\\n",
    "\\\\\n",
    "G(s)=\\frac{K_0}{s^2-\\lambda^2}\\\\\n",
    "K_O=7\\\\\n",
    "\\lambda=4\\\\\n",
    "G(s)= \\frac{7}{s^2-4^2}\n",
    "\\end{align}\n",
    "$$\n",
    "A função de transferência de malha fechada $T(s)$ é dada por:\n",
    "$$\n",
    "\\begin{align}\n",
    "T(s)=\\frac{G(s)\\cdot C(s)}{1+G(s)\\cdot C(s)}\n",
    "\\end{align}\n",
    "$$\n",
    "Substituindo $G(s)$ e $C(s)$:\n",
    "$$\n",
    "\\begin{align}\n",
    "T(s)=\\frac{\\frac{40}{7}\\cdot\\frac{7}{s^2-16}\\cdot\\frac{s+4}{s+8}}{1+\\frac{7}{s^2-16}\\cdot\\frac{40}{7}\\cdot\\frac{s+4}{s+8}}\\\n",
    "\\end{align}\n",
    "$$\n",
    "Simplificando:\n",
    "$$\n",
    "\\begin{align}\n",
    "T(s)=\\frac{40}{s^2+4s+8}\n",
    "\\end{align}\n",
    "$$\n",
    "Achando os polos, temos que:\n",
    "$$\n",
    "\\begin{align}\n",
    "s = \\frac{-4\\pm \\sqrt{4^2-4\\cdot 1\\cdot 8}}{2\\cdot1}\\\\\n",
    "s1=-2+2j\\\\\n",
    "s2=-2-2j\n",
    "\\end{align}\n",
    "$$\n",
    "Os polos têm parte real negativa, então o sistema é estável. Portanto, com base na análise dos polos, podemos concluir que o sistema é estável."
   ]
  },
  {
   "cell_type": "markdown",
   "metadata": {},
   "source": [
    "### B)"
   ]
  },
  {
   "cell_type": "markdown",
   "metadata": {},
   "source": [
    "Usando a equação da malha fechada $1+G(s)C(s)=0$, onde $G(s)=\\frac{40}{s^2+4s+8}$ e $C(s)=K$, obtemos:\n",
    "$$\n",
    "\\begin{align}\n",
    "1+\\frac{40K}{s^2+4s+8}=0\\\\\n",
    "s=-2\\pm4j\\\\\n",
    "1+\\frac{40K}{(-2\\pm4j)^2+4(-2\\pm4j)+8}=0\\\\\n",
    "1+\\frac{40K}{-12\\pm32j}=0\\\\\n",
    "\\end{align}\n",
    "$$\n",
    "Multiplicando os 2 lados por $-12\\pm32j$ e isolando o K, obtemos:\n",
    "$$\n",
    "\\begin{align}\n",
    "K= \\frac{12\\pm32j}{40}\\\\\n",
    "\\end{align}\n",
    "$$\n",
    "Separando e simplificando:\n",
    "$$\n",
    "\\begin{align}\n",
    "K=\\frac{3}{10}\\pm \\frac{8j}{10}\n",
    "\\end{align}\n",
    "$$\n",
    "O valor de $K$ para que os polos da malha fechada sejam $s=-2\\pm4j$ é de $K=\\frac{3}{10}\\pm\\frac{8j}{10}$"
   ]
  },
  {
   "cell_type": "code",
   "execution_count": null,
   "metadata": {},
   "outputs": [],
   "source": []
  }
 ],
 "metadata": {
  "kernelspec": {
   "display_name": "Python 3",
   "language": "python",
   "name": "python3"
  },
  "language_info": {
   "codemirror_mode": {
    "name": "ipython",
    "version": 3
   },
   "file_extension": ".py",
   "mimetype": "text/x-python",
   "name": "python",
   "nbconvert_exporter": "python",
   "pygments_lexer": "ipython3",
   "version": "3.11.6"
  }
 },
 "nbformat": 4,
 "nbformat_minor": 2
}
