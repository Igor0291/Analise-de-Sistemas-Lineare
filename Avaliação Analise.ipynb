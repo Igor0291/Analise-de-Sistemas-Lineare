{
 "cells": [
  {
   "cell_type": "markdown",
   "metadata": {},
   "source": [
    "## Universidade Federal do Pará\n",
    "## Faculdade de Engenharia Elétrica\n",
    "### Aluno: Igor Emanoel Vieira Alves\n",
    "### Matrícula: 202233940009"
   ]
  },
  {
   "cell_type": "markdown",
   "metadata": {},
   "source": [
    "1) A seguinte equação diferencial ordinária (EDO) representa um sistema linear invariante no tempo cujos sinais de saída e entrada são, respectivamente, $y(t)$ e $x(t)$.\\\n",
    "$$\n",
    "\\begin{align}\n",
    "\\ddot{y}(t) + 4\\dot{y}(t) +  85y(t) = 85x(t)\\\n",
    "\\end{align}\n",
    "$$\n",
    "Suponha que as condições iniciais sejam $y(0) = 0$ e $ \\dot{y}(0) = 3$ e a entrada seja um sinal degrau unitário. Utilizando a transformada de Laplace, encontre a resposta total, identificando as componentes natural e forçada."
   ]
  },
  {
   "cell_type": "markdown",
   "metadata": {},
   "source": [
    "### Resposta:\n",
    "Aplicando Laplace, temos:\n",
    "$$\n",
    "\\begin{align}\n",
    "\n",
    "    \\mathcal{L}\\{\\ddot y\\}+4\\mathcal{L}\\{\\dot y\\}+85\\mathcal{L}\\{y\\}=85x(t)\n",
    "\\end{align}\n",
    "$$"
   ]
  },
  {
   "cell_type": "markdown",
   "metadata": {},
   "source": [
    "Considerando:\n",
    "$$\n",
    "\\begin{align}\n",
    "y(t) \\leftrightarrow Y(s)\n",
    "\\end{align}\n",
    "$$\n",
    "Temos:\n",
    "$$\n",
    "\\begin{align}\n",
    "\\mathcal{L}\\{\\dot y\\} \\leftrightarrow sY(s)-y(0)=sY(s)-0\\\\\n",
    "\\mathcal{L}\\{\\ddot y\\} \\leftrightarrow s^2Y(s)-sy(0)-\\dot y(0)= s^2Y(s)-0-3\\\\\n",
    "\\end{align}\n",
    "$$"
   ]
  },
  {
   "cell_type": "markdown",
   "metadata": {},
   "source": [
    "Para a entrada $x(t)=u(t)$, temos:\n",
    "$$\n",
    "\\begin{align}\n",
    "X(s)= x(t) = \\frac {1}{s}\n",
    "\\end{align}"
   ]
  },
  {
   "cell_type": "markdown",
   "metadata": {},
   "source": [
    "Fazendo as transformadas, obtemos:\n",
    "$$\n",
    "\\begin {align}\n",
    "[s^2Y(s)-3]+4[sY(s)]+85Y(s)=85 \\frac {1}{s}\n",
    "\\end{align}\n",
    "$$\n",
    "Agrupando os termos de $Y(s)$, temos:\n",
    "$$\n",
    "\\begin{align}\n",
    "(s^2+4s+85)Y(s)=\\frac{85}{s}+3\n",
    "\\end{align}\n",
    "$$\n",
    "Isolando o $Y(s)$:\n",
    "$$\n",
    "\\begin {align}\n",
    "Y(s)=\\frac{85+3s}{s(s^2+4s+85)}\n",
    "\\end{align}\n",
    "$$"
   ]
  },
  {
   "cell_type": "markdown",
   "metadata": {},
   "source": []
  },
  {
   "cell_type": "markdown",
   "metadata": {},
   "source": [
    "2) Um sistema mecânico clássico utilizado para estudo de amortecedores e osciladores é o modelo massa-mola, cuja equação diferencial é descrita como:\n",
    "$$\n",
    "\\begin{align}\n",
    "m\\ddot{y}(t)+k\\dot{y}(t)=f(t)\n",
    "\\end{align}\n",
    "$$\n",
    "onde $m$ é a massa, $k$ é a rigidez da mola. O sinal $y(t)$ é a observação da posição da massa e $f(t)$ representa um sinal de força aplicada, que podemos controlar.\n",
    "\n",
    "Considere $m=12$ e $k=15$ . Para este sistema, determine:\n",
    "\n",
    "a-A função de transferência\n",
    "\n",
    "b-Os pólos e zeros da função de transferência obtida\n",
    "\n",
    "c-Os modos característicos deste sistema\n",
    "\n",
    "d-A saída em regime permanente quando a entrada for $f(t)=30cos(3t)$\n",
    "\n",
    "e-A saída total quando a entrada é $f(t)=cos(\\sqrt{\\frac{15}{12}}t)$\n",
    "\n",
    "f-Analise o sinal obtido no item (e). Com base nesta análise, é possível afirmar que este sistema é estável? Justifique."
   ]
  },
  {
   "cell_type": "markdown",
   "metadata": {},
   "source": [
    "### a)"
   ]
  },
  {
   "cell_type": "markdown",
   "metadata": {},
   "source": [
    "A função de transferência é dada por:\n",
    "$$\n",
    "\\begin{align}\n",
    "H(s)=\\frac{Y(s)}{F(s)}\n",
    "\\end{align}\n",
    "$$\n",
    "Para encontrar-lá, primeiro resolve-se a transformada de Laplace da equação diferencial dada na questão. Resolvendo, temos:\n",
    "$$\n",
    "\\begin{align}\n",
    "m\\cdot s^2Y(s)+k\\cdot s\\cdot Y(s)=F(s)\n",
    "\\end{align}\n",
    "$$\n",
    "Para achar a função de transferência:\n",
    "Isolando o $Y(s)$\n",
    "$$\n",
    "\\begin{align}\n",
    "(ms^2+ks)Y(s)=F(s)\n",
    "\\end{align}\n",
    "$$\n",
    "Então temos que:\n",
    "$$\n",
    "\\begin{align}\n",
    "H(s)=\\frac{Y(s)}{F(s)}=\\frac{1}{ms^2+ks}\n",
    "\\end{align}\n",
    "$$\n",
    "Substituindo $m=12, k=15$:\n",
    "$$\n",
    "\\begin{align}\n",
    "H(s)=\\frac{1}{12s^2+15s}\n",
    "\\end{align}\n",
    "$$"
   ]
  },
  {
   "cell_type": "markdown",
   "metadata": {},
   "source": [
    "### b)"
   ]
  },
  {
   "cell_type": "markdown",
   "metadata": {},
   "source": [
    "s(12s+15)"
   ]
  }
 ],
 "metadata": {
  "kernelspec": {
   "display_name": "Python 3",
   "language": "python",
   "name": "python3"
  },
  "language_info": {
   "codemirror_mode": {
    "name": "ipython",
    "version": 3
   },
   "file_extension": ".py",
   "mimetype": "text/x-python",
   "name": "python",
   "nbconvert_exporter": "python",
   "pygments_lexer": "ipython3",
   "version": "3.11.6"
  }
 },
 "nbformat": 4,
 "nbformat_minor": 2
}
