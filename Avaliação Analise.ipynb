{
 "cells": [
  {
   "cell_type": "markdown",
   "metadata": {},
   "source": [
    "## Universidade Federal do Pará\n",
    "## Faculdade de Engenharia Elétrica\n",
    "### Aluno: Igor Emanoel Vieira Alves\n",
    "### Matrícula: 202233940009"
   ]
  },
  {
   "cell_type": "markdown",
   "metadata": {},
   "source": [
    "## 1)"
   ]
  },
  {
   "cell_type": "markdown",
   "metadata": {},
   "source": [
    "### Resposta:"
   ]
  },
  {
   "cell_type": "markdown",
   "metadata": {},
   "source": [
    "Aplicando Laplace, temos:\n",
    "$$\n",
    "\\begin{align}\n",
    "\\mathcal{L}\\{\\ddot y\\}+4\\mathcal{L}\\{\\dot y\\}+85\\mathcal{L}\\{y\\}=85x(t)\n",
    "\\end{align}\n",
    "$$\n",
    "Considerando:\n",
    "$$\n",
    "\\begin{align}\n",
    "y(t) \\leftrightarrow Y(s)\n",
    "\\end{align}\n",
    "$$\n",
    "Temos:\n",
    "$$\n",
    "\\begin{align}\n",
    "\\mathcal{L}\\{\\dot y\\} \\leftrightarrow sY(s)-y(0)=sY(s)-0\\\\\n",
    "\\mathcal{L}\\{\\ddot y\\} \\leftrightarrow s^2Y(s)-sy(0)-\\dot y(0)= s^2Y(s)-0-3\\\\\n",
    "\\end{align}\n",
    "$$"
   ]
  },
  {
   "cell_type": "markdown",
   "metadata": {},
   "source": [
    "Para a entrada $x(t)=u(t)$, temos:\n",
    "$$\n",
    "\\begin{align}\n",
    "X(s)= x(t) = \\frac {1}{s}\n",
    "\\end{align}"
   ]
  },
  {
   "cell_type": "markdown",
   "metadata": {},
   "source": [
    "Fazendo as transformadas, obtemos:\n",
    "$$\n",
    "\\begin {align}\n",
    "[s^2Y(s)-3]+4[sY(s)]+85Y(s)=85X(s)\n",
    "\\end{align}\n",
    "$$\n",
    "\n",
    "$$\n",
    "\\begin{align}\n",
    "\\bf{(s^2+4s+85)Y(s)=\\frac{85}{s}+3}\n",
    "\\end{align}\n",
    "$$\n",
    "Isolando o $Y(s)$:\n",
    "$$\n",
    "\\begin {align}\n",
    "Y(s)=\\frac{85+3s}{s(s^2+4s+85)}\n",
    "\\end{align}\n",
    "$$\n",
    "Decompondo em frações parciais:\n",
    "$$\n",
    "\\begin{align}\n",
    "Y(s)=\\frac{A}{s}+\\frac{B}{(s+2+9j)}+\\frac{C}{(s+2-9j)}\\\\\n",
    "A= 1\\\\\n",
    "B= -\\frac{1}{18}\\\\\n",
    "C= \\frac{1}{18}\n",
    "\\end{align}\n",
    "$$\n",
    "Aplicando Laplace inversa:\n",
    "$$\n",
    "\\begin{align}\n",
    "y(t)=\\mathcal{L}^{-1}\\{Y(s)\\}=\\mathcal{L}^{-1}\\{\\frac{A}{s}+\\frac{B}{(s-2+9j)}+\\frac{C}{s+2-9j}\\}\n",
    "\\end{align}\n",
    "$$\n",
    "Sabendo que $\\mathcal{L}^{-1}\\{\\frac{1}{s-a}\\}=e^{at}$, Substituímos para encontrar a solução forçada:\n",
    "$$\n",
    "\\begin{align}\n",
    " y_f(t) = u(t)-\\frac{1}{18}e^{(2+9i)t} + \\frac{1}{18}e^{(2-9i)t}u(t)\n",
    "\\end{align}\n",
    "$$\n",
    "Aplicando as condições iniciais para ara encontrar a solução natual, obtemos:\n",
    "$$\n",
    "\\begin{align}\n",
    "y_n(t) = 1-e^{-2t}u(t)\n",
    "\\end{align}\n",
    "$$\n",
    "$y(t)$ é a soma da solução das duas\n",
    "$$\n",
    "\\begin{align}\n",
    "y(t) = y_f(t) + y_n(t)\\\\\n",
    "y(t) = u(t)-\\frac{1}{18}e^{-(2+9j)t} + \\frac{1}{18}e^{-(2-9j)t}u(t)+1-e^{-2t}u(t)\n",
    "\\end{align}\n",
    "$$\n",
    "Simplificando, obtemos:\n",
    "$$\n",
    "\\begin{align}\n",
    "y(t) = u(t)+\\frac{e^{-2t}sin(9t)u(t)}{9}-e^{-2t}cos(9t)u(t)\n",
    "\\end{align}\n",
    "$$\n"
   ]
  },
  {
   "cell_type": "markdown",
   "metadata": {},
   "source": [
    "## 2)"
   ]
  },
  {
   "cell_type": "markdown",
   "metadata": {},
   "source": [
    "### Respostas"
   ]
  },
  {
   "cell_type": "markdown",
   "metadata": {},
   "source": [
    "### A)"
   ]
  },
  {
   "cell_type": "markdown",
   "metadata": {},
   "source": [
    "A função de transferência é dada por:\n",
    "$$\n",
    "\\begin{align}\n",
    "H(s)=\\frac{Y(s)}{F(s)}\n",
    "\\end{align}\n",
    "$$\n",
    "Para encontrar-lá, primeiro resolve-se a transformada de Laplace da equação diferencial dada na questão. Resolvendo, temos:\n",
    "$$\n",
    "\\begin{align}\n",
    "m\\cdot s^2Y(s)+kY(s)=F(s)\n",
    "\\end{align}\n",
    "$$\n",
    "Para achar a função de transferência:\n",
    "Isolando o $Y(s)$\n",
    "$$\n",
    "\\begin{align}\n",
    "(ms^2+k)Y(s)=F(s)\n",
    "\\end{align}\n",
    "$$\n",
    "Então temos que:\n",
    "$$\n",
    "\\begin{align}\n",
    "H(s)=\\frac{Y(s)}{F(s)}=\\frac{1}{ms^2+k}\n",
    "\\end{align}\n",
    "$$\n",
    "Substituindo $m=12, k=15$:\n",
    "$$\n",
    "\\begin{align}\n",
    "H(s)=\\frac{1}{12s^2+15}\n",
    "\\end{align}\n",
    "$$"
   ]
  },
  {
   "cell_type": "markdown",
   "metadata": {},
   "source": [
    "### B)"
   ]
  },
  {
   "cell_type": "markdown",
   "metadata": {},
   "source": [
    "Pegando o denominador para achar os pólos, temos:\n",
    "$$\n",
    "\\begin{align}\n",
    "12s^2+15=0\\\\\n",
    "s=\\sqrt{\\frac{-15}{12}}\\\\\n",
    "s= \\sqrt{\\frac{-5}{4}}\\\\\n",
    "s= \\pm j \\frac{\\sqrt{5}}{2}\n",
    "\\end{align}\n",
    "$$"
   ]
  },
  {
   "cell_type": "markdown",
   "metadata": {},
   "source": [
    "### C)"
   ]
  },
  {
   "cell_type": "markdown",
   "metadata": {},
   "source": [
    "Os modos característicos desses polos são dados pelos termos exponeciais, assim temos que:\n",
    "$$\n",
    "\\begin{align}\n",
    "s=\\pm j\\frac{\\sqrt{5}}{2}=e^{\\pm j\\frac{\\sqrt{5}}{2}}\\\\\n",
    "e^{\\pm j\\frac{\\sqrt{5}}{2}} = cos(\\frac{\\sqrt{5}}{2}),sin(\\frac{\\sqrt{5}}{2})\n",
    "\\end{align}\n",
    "$$"
   ]
  },
  {
   "cell_type": "markdown",
   "metadata": {},
   "source": [
    "### D)"
   ]
  },
  {
   "cell_type": "markdown",
   "metadata": {},
   "source": [
    "A saída em regime permanente é dada pela equação:\n",
    "$$\n",
    "\\begin{align}\n",
    "Y_{ss}(t)=|H(j \\omega)|\\cdot cos(\\omega t+\\angle H(j\\omega))u(t)\n",
    "\\end{align}\n",
    "$$\n",
    "Onde: $s=j\\omega$\n",
    "Utilizando a entrada $f(t)=30cos(3t)$, temos:\n",
    "$$\n",
    "\\begin{align}\n",
    "Y_{ss}(t)=|H(j\\omega)|\\cdot 30cos(3t+\\angle H(j\\omega))u(t)\n",
    "\\end{align}\n",
    "$$\n",
    "Achando o módulo e a fase da expressão, temos que:\n",
    "$$\n",
    "\\begin{align}\n",
    "|H(j\\omega)|= \\frac{1}{\\sqrt{(-12\\omega^2)^2+(15)^2}}\\\\\n",
    "\\angle H(j\\omega)= tan^{-1}(\\frac{0}{-12\\omega+15})\\\\\n",
    "\\angle H(j\\omega) =\\pi \n",
    "\\end{align}\n",
    "$$\n",
    "\n",
    "Substituindo as expressões encontradas e também já substituindo $\\omega=3$, obtemos:\n",
    "$$\n",
    "\\begin{align}\n",
    "Y_{ss}(t)=\\frac{1}{|-93|}\\cdot 30cos(3t+3.1))u(t)\\\\\n",
    "Y_{ss}(t)=\\frac{30cos(3t)+3.1}{93}= \\frac{10cos(3t)+3.1}{31}\n",
    "\\end{align}\n",
    "$$"
   ]
  },
  {
   "cell_type": "markdown",
   "metadata": {},
   "source": [
    "### E)"
   ]
  },
  {
   "cell_type": "markdown",
   "metadata": {},
   "source": [
    "Sem considerar o regime permanente, podemos encontrar a saída total, fazendo a transformada inversa de Laplace em $H(s)$, depois fazendo a convolução com a entrada $f(t)$, então:\n",
    "$$\n",
    "\\begin{align}\n",
    "h(t)= \\mathcal{L}^{-1}\\{H(s)\\}\\\\\n",
    "h(t)= \\frac{1}{\\sqrt{180}}sin(\\frac{\\sqrt180}{{12}}t)\\\\\n",
    "Y(t)= h(t)*f(t)\n",
    "\\end{align}\n",
    "$$\n",
    "Substituindo os valores, temos que:\n",
    "$$\n",
    "\\begin{align}\n",
    "Y(t)= \\frac{1}{\\sqrt{180}}sin(\\frac{\\sqrt180}{{12}}t) * cos(\\sqrt{\\frac{15}{12}t})\\\\\n",
    "(h*f)(t) = \\frac{1}{\\sqrt{180}} \\int_{0}^{t} \\sin\\left(\\frac{\\sqrt{180}}{12}\\tau\\right) \\cos\\left(\\frac{\\sqrt{15}}{12}(t - \\tau)\\right) \\, d\\tau\\\\\n",
    "y(t)= \\frac{\\sqrt{5}sin(\\frac{\\sqrt{5}}{2})\\theta(t)}{60}\n",
    "\\end{align}\n",
    "$$\n"
   ]
  },
  {
   "cell_type": "markdown",
   "metadata": {},
   "source": [
    "### F)"
   ]
  },
  {
   "cell_type": "markdown",
   "metadata": {},
   "source": [
    "Com Base nos polos da função de trânsferencia $H(s)$, podemos afirmar que o sistema é estável pois tem partes reais negativas. As partes reais negativas implicam que ao longo do tempo a resposta ao impulso, a resposta a entradas arbitrárias e por extensão, irão tender a 0, resultando em um sistema estável"
   ]
  },
  {
   "cell_type": "markdown",
   "metadata": {},
   "source": [
    "## 3) "
   ]
  },
  {
   "cell_type": "markdown",
   "metadata": {},
   "source": [
    "Primeiro, obtemos as expressões do Controlador $C(s)$ e da planta MAGLEV $G(s)$:\n",
    "$$\n",
    "\\begin{align}\n",
    "C(s)=K\\cdot\\frac{s+4}{s+8}\\\\\n",
    "K = \\frac{40}{7}\\\\\n",
    "C(s)= \\frac{40}{7}\\cdot \\frac{s+4}{s+8}\\\\\n",
    "\\\\\n",
    "G(s)=\\frac{K_0}{s^2-\\lambda^2}\\\\\n",
    "K_O=7\\\\\n",
    "\\lambda=4\\\\\n",
    "G(s)= \\frac{7}{s^2-4^2}\n",
    "\\end{align}\n",
    "$$\n",
    "A função de transferência de malha fechada $T(s)$ é dada por:\n",
    "$$\n",
    "\\begin{align}\n",
    "T(s)=\\frac{G(s)\\cdot C(s)}{1+G(s)\\cdot C(s)}\n",
    "\\end{align}\n",
    "$$\n",
    "Substituindo $G(s)$ e $C(s)$:\n",
    "$$\n",
    "\\begin{align}\n",
    "T(s)=\\frac{\\frac{40}{7}\\cdot\\frac{7}{s^2-16}\\cdot\\frac{s+4}{s+8}}{1+\\frac{7}{s^2-16}\\cdot\\frac{40}{7}\\cdot\\frac{s+4}{s+8}}\\\n",
    "\\end{align}\n",
    "$$\n",
    "Simplificando:\n",
    "$$\n",
    "\\begin{align}\n",
    "T(s)=\\frac{40}{s^2+4s+8}\n",
    "\\end{align}\n",
    "$$\n",
    "Achando os polos, temos que:\n",
    "$$\n",
    "\\begin{align}\n",
    "s = \\frac{-4\\pm \\sqrt{4^2-4\\cdot 1\\cdot 8}}{2\\cdot1}\\\\\n",
    "s1=-2+2j\\\\\n",
    "s2=-2-2j\n",
    "\\end{align}\n",
    "$$\n",
    "Os polos têm parte real negativa, então o sistema é estável. Portanto, com base na análise dos polos, podemos concluir que o sistema é estável."
   ]
  },
  {
   "cell_type": "markdown",
   "metadata": {},
   "source": [
    "### B)"
   ]
  },
  {
   "cell_type": "markdown",
   "metadata": {},
   "source": [
    "Usando a equação anterior sem substituirmos os valores:\n",
    "$$\n",
    "\\begin{align}\n",
    "C = \\frac{14k(s+4)}{(s+8)(s-4)(s+4)}\n",
    "\\end{align}\n",
    "$$\n",
    "Simplificando:\n",
    "$$\n",
    "\\begin{align}\n",
    "C = \\frac{14k}{(s+8)(s-4)}\n",
    "\\end{align}\n",
    "$$\n",
    "Agora:\n",
    "$$\n",
    "\\begin{align}\n",
    "H= \\frac{\\frac{14}{(s+8)(s-4)}}{1+\\frac{15}{(s+8)(s+4)}}\n",
    "\\end{align}\n",
    "$$\n",
    "Simplificando:\n",
    "$$\n",
    "\\begin{align}\n",
    "H= \\frac{14k}{(s+8)(s-4)+14k}\\\\\n",
    "H(s)=\\frac{14k}{s^2+4s-32+14k}\n",
    "\\end{align}\n",
    "$$\n",
    "Multiplicando ambos os lados pelo valor de s, obtemos:\n",
    "$$\n",
    "\\begin{align}\n",
    "+2\\pm j4= \\frac{-4 \\sqrt{4^2-4\\cdot(-32+14k)}}{2}\\\\\n",
    "j4=\\frac{\\sqrt{16+128-56k}}{2}\\\\\n",
    "j8=\\sqrt{144-56k}\\\\\n",
    "(j8)^2=144-56k\\\\\n",
    "k=\\frac{-208}{-56}\\\\\n",
    "k=\\frac{26}{7}\n",
    "\\end{align}\n",
    "$$"
   ]
  }
 ],
 "metadata": {
  "kernelspec": {
   "display_name": "Python 3",
   "language": "python",
   "name": "python3"
  },
  "language_info": {
   "codemirror_mode": {
    "name": "ipython",
    "version": 3
   },
   "file_extension": ".py",
   "mimetype": "text/x-python",
   "name": "python",
   "nbconvert_exporter": "python",
   "pygments_lexer": "ipython3",
   "version": "3.11.6"
  }
 },
 "nbformat": 4,
 "nbformat_minor": 2
}
